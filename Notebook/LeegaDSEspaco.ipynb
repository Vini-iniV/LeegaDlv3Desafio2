{
  "nbformat": 4,
  "nbformat_minor": 0,
  "metadata": {
    "colab": {
      "name": "LeegaDSEspaco.ipynb",
      "provenance": [],
      "collapsed_sections": [
        "30tUscq6T8w_",
        "MwVemzFfUKr4",
        "dOAhcZKqjPdB"
      ]
    },
    "kernelspec": {
      "name": "python3",
      "display_name": "Python 3"
    },
    "language_info": {
      "name": "python"
    }
  },
  "cells": [
    {
      "cell_type": "markdown",
      "metadata": {
        "id": "8BJzWLw_Rupa"
      },
      "source": [
        "## ---------------------- Variáveis ----------------------\n",
        "\n",
        "*   Company Name: Nome da companhia.\n",
        "*   Location: Localização onde foi realizada a missão.\n",
        "*   Datum: Data e hora da missão.\n",
        "*   Detail: Detalhes sobre a missão.\n",
        "*   Status Rocket: Status do foguete (Ativo/Inativo).\n",
        "*   Rocket: Preço da missão (Em milhões de US$).\n",
        "*   Status Mission: Status/Resultado da missão."
      ]
    },
    {
      "cell_type": "markdown",
      "metadata": {
        "id": "30tUscq6T8w_"
      },
      "source": [
        "## 1 - Importando as bibliotecas"
      ]
    },
    {
      "cell_type": "markdown",
      "metadata": {
        "id": "MwVemzFfUKr4"
      },
      "source": [
        "### 1.1 - Bibliotecas de Análise de Dados"
      ]
    },
    {
      "cell_type": "code",
      "metadata": {
        "id": "bF9FoSOJUVVv"
      },
      "source": [
        "import numpy as np\n",
        "import pandas as pd\n",
        "import matplotlib.pyplot as plt\n",
        "import seaborn as sns"
      ],
      "execution_count": 386,
      "outputs": []
    },
    {
      "cell_type": "markdown",
      "metadata": {
        "id": "V3aETC70WhHh"
      },
      "source": [
        "## 2 - Importando a base de dados"
      ]
    },
    {
      "cell_type": "code",
      "metadata": {
        "id": "obkA7WDGNDN2",
        "colab": {
          "base_uri": "https://localhost:8080/"
        },
        "outputId": "73a88c5a-3d35-4989-cc01-f1bad5292203"
      },
      "source": [
        "from google.colab import drive\n",
        "drive.mount('/content/drive')"
      ],
      "execution_count": 387,
      "outputs": [
        {
          "output_type": "stream",
          "name": "stdout",
          "text": [
            "Drive already mounted at /content/drive; to attempt to forcibly remount, call drive.mount(\"/content/drive\", force_remount=True).\n"
          ]
        }
      ]
    },
    {
      "cell_type": "code",
      "metadata": {
        "colab": {
          "base_uri": "https://localhost:8080/",
          "height": 614
        },
        "id": "lNtFLbWDQsnh",
        "outputId": "19a69e8b-5dcf-4ac2-eed6-c968f10e8d67"
      },
      "source": [
        "df = pd.read_csv(\"/content/drive/MyDrive/Space_Corrected.csv\")\n",
        "df"
      ],
      "execution_count": 388,
      "outputs": [
        {
          "output_type": "execute_result",
          "data": {
            "text/html": [
              "<div>\n",
              "<style scoped>\n",
              "    .dataframe tbody tr th:only-of-type {\n",
              "        vertical-align: middle;\n",
              "    }\n",
              "\n",
              "    .dataframe tbody tr th {\n",
              "        vertical-align: top;\n",
              "    }\n",
              "\n",
              "    .dataframe thead th {\n",
              "        text-align: right;\n",
              "    }\n",
              "</style>\n",
              "<table border=\"1\" class=\"dataframe\">\n",
              "  <thead>\n",
              "    <tr style=\"text-align: right;\">\n",
              "      <th></th>\n",
              "      <th>Unnamed: 0</th>\n",
              "      <th>Unnamed: 0.1</th>\n",
              "      <th>Company Name</th>\n",
              "      <th>Location</th>\n",
              "      <th>Datum</th>\n",
              "      <th>Detail</th>\n",
              "      <th>Status Rocket</th>\n",
              "      <th>Rocket</th>\n",
              "      <th>Status Mission</th>\n",
              "    </tr>\n",
              "  </thead>\n",
              "  <tbody>\n",
              "    <tr>\n",
              "      <th>0</th>\n",
              "      <td>0</td>\n",
              "      <td>0</td>\n",
              "      <td>SpaceX</td>\n",
              "      <td>LC-39A, Kennedy Space Center, Florida, USA</td>\n",
              "      <td>Fri Aug 07, 2020 05:12 UTC</td>\n",
              "      <td>Falcon 9 Block 5 | Starlink V1 L9 &amp; BlackSky</td>\n",
              "      <td>StatusActive</td>\n",
              "      <td>50.0</td>\n",
              "      <td>Success</td>\n",
              "    </tr>\n",
              "    <tr>\n",
              "      <th>1</th>\n",
              "      <td>1</td>\n",
              "      <td>1</td>\n",
              "      <td>CASC</td>\n",
              "      <td>Site 9401 (SLS-2), Jiuquan Satellite Launch Ce...</td>\n",
              "      <td>Thu Aug 06, 2020 04:01 UTC</td>\n",
              "      <td>Long March 2D | Gaofen-9 04 &amp; Q-SAT</td>\n",
              "      <td>StatusActive</td>\n",
              "      <td>29.75</td>\n",
              "      <td>Success</td>\n",
              "    </tr>\n",
              "    <tr>\n",
              "      <th>2</th>\n",
              "      <td>2</td>\n",
              "      <td>2</td>\n",
              "      <td>SpaceX</td>\n",
              "      <td>Pad A, Boca Chica, Texas, USA</td>\n",
              "      <td>Tue Aug 04, 2020 23:57 UTC</td>\n",
              "      <td>Starship Prototype | 150 Meter Hop</td>\n",
              "      <td>StatusActive</td>\n",
              "      <td>NaN</td>\n",
              "      <td>Success</td>\n",
              "    </tr>\n",
              "    <tr>\n",
              "      <th>3</th>\n",
              "      <td>3</td>\n",
              "      <td>3</td>\n",
              "      <td>Roscosmos</td>\n",
              "      <td>Site 200/39, Baikonur Cosmodrome, Kazakhstan</td>\n",
              "      <td>Thu Jul 30, 2020 21:25 UTC</td>\n",
              "      <td>Proton-M/Briz-M | Ekspress-80 &amp; Ekspress-103</td>\n",
              "      <td>StatusActive</td>\n",
              "      <td>65.0</td>\n",
              "      <td>Success</td>\n",
              "    </tr>\n",
              "    <tr>\n",
              "      <th>4</th>\n",
              "      <td>4</td>\n",
              "      <td>4</td>\n",
              "      <td>ULA</td>\n",
              "      <td>SLC-41, Cape Canaveral AFS, Florida, USA</td>\n",
              "      <td>Thu Jul 30, 2020 11:50 UTC</td>\n",
              "      <td>Atlas V 541 | Perseverance</td>\n",
              "      <td>StatusActive</td>\n",
              "      <td>145.0</td>\n",
              "      <td>Success</td>\n",
              "    </tr>\n",
              "    <tr>\n",
              "      <th>...</th>\n",
              "      <td>...</td>\n",
              "      <td>...</td>\n",
              "      <td>...</td>\n",
              "      <td>...</td>\n",
              "      <td>...</td>\n",
              "      <td>...</td>\n",
              "      <td>...</td>\n",
              "      <td>...</td>\n",
              "      <td>...</td>\n",
              "    </tr>\n",
              "    <tr>\n",
              "      <th>4319</th>\n",
              "      <td>4319</td>\n",
              "      <td>4319</td>\n",
              "      <td>US Navy</td>\n",
              "      <td>LC-18A, Cape Canaveral AFS, Florida, USA</td>\n",
              "      <td>Wed Feb 05, 1958 07:33 UTC</td>\n",
              "      <td>Vanguard | Vanguard TV3BU</td>\n",
              "      <td>StatusRetired</td>\n",
              "      <td>NaN</td>\n",
              "      <td>Failure</td>\n",
              "    </tr>\n",
              "    <tr>\n",
              "      <th>4320</th>\n",
              "      <td>4320</td>\n",
              "      <td>4320</td>\n",
              "      <td>AMBA</td>\n",
              "      <td>LC-26A, Cape Canaveral AFS, Florida, USA</td>\n",
              "      <td>Sat Feb 01, 1958 03:48 UTC</td>\n",
              "      <td>Juno I | Explorer 1</td>\n",
              "      <td>StatusRetired</td>\n",
              "      <td>NaN</td>\n",
              "      <td>Success</td>\n",
              "    </tr>\n",
              "    <tr>\n",
              "      <th>4321</th>\n",
              "      <td>4321</td>\n",
              "      <td>4321</td>\n",
              "      <td>US Navy</td>\n",
              "      <td>LC-18A, Cape Canaveral AFS, Florida, USA</td>\n",
              "      <td>Fri Dec 06, 1957 16:44 UTC</td>\n",
              "      <td>Vanguard | Vanguard TV3</td>\n",
              "      <td>StatusRetired</td>\n",
              "      <td>NaN</td>\n",
              "      <td>Failure</td>\n",
              "    </tr>\n",
              "    <tr>\n",
              "      <th>4322</th>\n",
              "      <td>4322</td>\n",
              "      <td>4322</td>\n",
              "      <td>RVSN USSR</td>\n",
              "      <td>Site 1/5, Baikonur Cosmodrome, Kazakhstan</td>\n",
              "      <td>Sun Nov 03, 1957 02:30 UTC</td>\n",
              "      <td>Sputnik 8K71PS | Sputnik-2</td>\n",
              "      <td>StatusRetired</td>\n",
              "      <td>NaN</td>\n",
              "      <td>Success</td>\n",
              "    </tr>\n",
              "    <tr>\n",
              "      <th>4323</th>\n",
              "      <td>4323</td>\n",
              "      <td>4323</td>\n",
              "      <td>RVSN USSR</td>\n",
              "      <td>Site 1/5, Baikonur Cosmodrome, Kazakhstan</td>\n",
              "      <td>Fri Oct 04, 1957 19:28 UTC</td>\n",
              "      <td>Sputnik 8K71PS | Sputnik-1</td>\n",
              "      <td>StatusRetired</td>\n",
              "      <td>NaN</td>\n",
              "      <td>Success</td>\n",
              "    </tr>\n",
              "  </tbody>\n",
              "</table>\n",
              "<p>4324 rows × 9 columns</p>\n",
              "</div>"
            ],
            "text/plain": [
              "      Unnamed: 0  Unnamed: 0.1  ...  Rocket Status Mission\n",
              "0              0             0  ...   50.0         Success\n",
              "1              1             1  ...  29.75         Success\n",
              "2              2             2  ...     NaN        Success\n",
              "3              3             3  ...   65.0         Success\n",
              "4              4             4  ...  145.0         Success\n",
              "...          ...           ...  ...     ...            ...\n",
              "4319        4319          4319  ...     NaN        Failure\n",
              "4320        4320          4320  ...     NaN        Success\n",
              "4321        4321          4321  ...     NaN        Failure\n",
              "4322        4322          4322  ...     NaN        Success\n",
              "4323        4323          4323  ...     NaN        Success\n",
              "\n",
              "[4324 rows x 9 columns]"
            ]
          },
          "metadata": {},
          "execution_count": 388
        }
      ]
    },
    {
      "cell_type": "markdown",
      "metadata": {
        "id": "q4VPrrowTDYg"
      },
      "source": [
        "Como podemos ver, a base possui **4324 lançamentos**, além de 2 colunas (Unnamed: 0 e Unnamed: 0.1) que são idênticas ao rowID. Por isso, vamos dropar essas colunas, salvando isso em um novo DataFrame, assim evitando mexer nos dados originais."
      ]
    },
    {
      "cell_type": "code",
      "metadata": {
        "colab": {
          "base_uri": "https://localhost:8080/",
          "height": 206
        },
        "id": "Hdy-aAMdUHxa",
        "outputId": "4cbcb578-1eca-406a-e728-acafcf2e4444"
      },
      "source": [
        "df1 = df.drop(columns=['Unnamed: 0', 'Unnamed: 0.1'])\n",
        "df1.head()"
      ],
      "execution_count": 389,
      "outputs": [
        {
          "output_type": "execute_result",
          "data": {
            "text/html": [
              "<div>\n",
              "<style scoped>\n",
              "    .dataframe tbody tr th:only-of-type {\n",
              "        vertical-align: middle;\n",
              "    }\n",
              "\n",
              "    .dataframe tbody tr th {\n",
              "        vertical-align: top;\n",
              "    }\n",
              "\n",
              "    .dataframe thead th {\n",
              "        text-align: right;\n",
              "    }\n",
              "</style>\n",
              "<table border=\"1\" class=\"dataframe\">\n",
              "  <thead>\n",
              "    <tr style=\"text-align: right;\">\n",
              "      <th></th>\n",
              "      <th>Company Name</th>\n",
              "      <th>Location</th>\n",
              "      <th>Datum</th>\n",
              "      <th>Detail</th>\n",
              "      <th>Status Rocket</th>\n",
              "      <th>Rocket</th>\n",
              "      <th>Status Mission</th>\n",
              "    </tr>\n",
              "  </thead>\n",
              "  <tbody>\n",
              "    <tr>\n",
              "      <th>0</th>\n",
              "      <td>SpaceX</td>\n",
              "      <td>LC-39A, Kennedy Space Center, Florida, USA</td>\n",
              "      <td>Fri Aug 07, 2020 05:12 UTC</td>\n",
              "      <td>Falcon 9 Block 5 | Starlink V1 L9 &amp; BlackSky</td>\n",
              "      <td>StatusActive</td>\n",
              "      <td>50.0</td>\n",
              "      <td>Success</td>\n",
              "    </tr>\n",
              "    <tr>\n",
              "      <th>1</th>\n",
              "      <td>CASC</td>\n",
              "      <td>Site 9401 (SLS-2), Jiuquan Satellite Launch Ce...</td>\n",
              "      <td>Thu Aug 06, 2020 04:01 UTC</td>\n",
              "      <td>Long March 2D | Gaofen-9 04 &amp; Q-SAT</td>\n",
              "      <td>StatusActive</td>\n",
              "      <td>29.75</td>\n",
              "      <td>Success</td>\n",
              "    </tr>\n",
              "    <tr>\n",
              "      <th>2</th>\n",
              "      <td>SpaceX</td>\n",
              "      <td>Pad A, Boca Chica, Texas, USA</td>\n",
              "      <td>Tue Aug 04, 2020 23:57 UTC</td>\n",
              "      <td>Starship Prototype | 150 Meter Hop</td>\n",
              "      <td>StatusActive</td>\n",
              "      <td>NaN</td>\n",
              "      <td>Success</td>\n",
              "    </tr>\n",
              "    <tr>\n",
              "      <th>3</th>\n",
              "      <td>Roscosmos</td>\n",
              "      <td>Site 200/39, Baikonur Cosmodrome, Kazakhstan</td>\n",
              "      <td>Thu Jul 30, 2020 21:25 UTC</td>\n",
              "      <td>Proton-M/Briz-M | Ekspress-80 &amp; Ekspress-103</td>\n",
              "      <td>StatusActive</td>\n",
              "      <td>65.0</td>\n",
              "      <td>Success</td>\n",
              "    </tr>\n",
              "    <tr>\n",
              "      <th>4</th>\n",
              "      <td>ULA</td>\n",
              "      <td>SLC-41, Cape Canaveral AFS, Florida, USA</td>\n",
              "      <td>Thu Jul 30, 2020 11:50 UTC</td>\n",
              "      <td>Atlas V 541 | Perseverance</td>\n",
              "      <td>StatusActive</td>\n",
              "      <td>145.0</td>\n",
              "      <td>Success</td>\n",
              "    </tr>\n",
              "  </tbody>\n",
              "</table>\n",
              "</div>"
            ],
            "text/plain": [
              "  Company Name  ... Status Mission\n",
              "0       SpaceX  ...        Success\n",
              "1         CASC  ...        Success\n",
              "2       SpaceX  ...        Success\n",
              "3    Roscosmos  ...        Success\n",
              "4          ULA  ...        Success\n",
              "\n",
              "[5 rows x 7 columns]"
            ]
          },
          "metadata": {},
          "execution_count": 389
        }
      ]
    },
    {
      "cell_type": "markdown",
      "metadata": {
        "id": "C3IbDDuCV2-s"
      },
      "source": [
        "## 3 - Análise Exploratória dos Dados"
      ]
    },
    {
      "cell_type": "markdown",
      "metadata": {
        "id": "sctsqSg6ZtlO"
      },
      "source": [
        "### 3.1 - Análise Geral"
      ]
    },
    {
      "cell_type": "markdown",
      "metadata": {
        "id": "iR72M1q9cdB3"
      },
      "source": [
        "Vendo quais são as colunas presentes e seus tipos."
      ]
    },
    {
      "cell_type": "code",
      "metadata": {
        "colab": {
          "base_uri": "https://localhost:8080/"
        },
        "id": "SgDSuJnhcg1O",
        "outputId": "d37f3122-f710-43a3-a02a-f96c155e2f6f"
      },
      "source": [
        "df1.info()"
      ],
      "execution_count": 390,
      "outputs": [
        {
          "output_type": "stream",
          "name": "stdout",
          "text": [
            "<class 'pandas.core.frame.DataFrame'>\n",
            "RangeIndex: 4324 entries, 0 to 4323\n",
            "Data columns (total 7 columns):\n",
            " #   Column          Non-Null Count  Dtype \n",
            "---  ------          --------------  ----- \n",
            " 0   Company Name    4324 non-null   object\n",
            " 1   Location        4324 non-null   object\n",
            " 2   Datum           4324 non-null   object\n",
            " 3   Detail          4324 non-null   object\n",
            " 4   Status Rocket   4324 non-null   object\n",
            " 5    Rocket         964 non-null    object\n",
            " 6   Status Mission  4324 non-null   object\n",
            "dtypes: object(7)\n",
            "memory usage: 236.6+ KB\n"
          ]
        }
      ]
    },
    {
      "cell_type": "markdown",
      "metadata": {
        "id": "hlRYvEfUWRNN"
      },
      "source": [
        "Vamos ver a descrição geral das colunas."
      ]
    },
    {
      "cell_type": "code",
      "metadata": {
        "colab": {
          "base_uri": "https://localhost:8080/",
          "height": 174
        },
        "id": "kagaZMx0WfIz",
        "outputId": "455f8cff-2c48-4a56-bc67-259f93d98b6c"
      },
      "source": [
        "df1.describe()"
      ],
      "execution_count": 391,
      "outputs": [
        {
          "output_type": "execute_result",
          "data": {
            "text/html": [
              "<div>\n",
              "<style scoped>\n",
              "    .dataframe tbody tr th:only-of-type {\n",
              "        vertical-align: middle;\n",
              "    }\n",
              "\n",
              "    .dataframe tbody tr th {\n",
              "        vertical-align: top;\n",
              "    }\n",
              "\n",
              "    .dataframe thead th {\n",
              "        text-align: right;\n",
              "    }\n",
              "</style>\n",
              "<table border=\"1\" class=\"dataframe\">\n",
              "  <thead>\n",
              "    <tr style=\"text-align: right;\">\n",
              "      <th></th>\n",
              "      <th>Company Name</th>\n",
              "      <th>Location</th>\n",
              "      <th>Datum</th>\n",
              "      <th>Detail</th>\n",
              "      <th>Status Rocket</th>\n",
              "      <th>Rocket</th>\n",
              "      <th>Status Mission</th>\n",
              "    </tr>\n",
              "  </thead>\n",
              "  <tbody>\n",
              "    <tr>\n",
              "      <th>count</th>\n",
              "      <td>4324</td>\n",
              "      <td>4324</td>\n",
              "      <td>4324</td>\n",
              "      <td>4324</td>\n",
              "      <td>4324</td>\n",
              "      <td>964</td>\n",
              "      <td>4324</td>\n",
              "    </tr>\n",
              "    <tr>\n",
              "      <th>unique</th>\n",
              "      <td>56</td>\n",
              "      <td>137</td>\n",
              "      <td>4319</td>\n",
              "      <td>4278</td>\n",
              "      <td>2</td>\n",
              "      <td>56</td>\n",
              "      <td>4</td>\n",
              "    </tr>\n",
              "    <tr>\n",
              "      <th>top</th>\n",
              "      <td>RVSN USSR</td>\n",
              "      <td>Site 31/6, Baikonur Cosmodrome, Kazakhstan</td>\n",
              "      <td>Tue Aug 28, 1990 09:05 UTC</td>\n",
              "      <td>Cosmos-3MRB (65MRB) | BOR-5 Shuttle</td>\n",
              "      <td>StatusRetired</td>\n",
              "      <td>450.0</td>\n",
              "      <td>Success</td>\n",
              "    </tr>\n",
              "    <tr>\n",
              "      <th>freq</th>\n",
              "      <td>1777</td>\n",
              "      <td>235</td>\n",
              "      <td>2</td>\n",
              "      <td>6</td>\n",
              "      <td>3534</td>\n",
              "      <td>136</td>\n",
              "      <td>3879</td>\n",
              "    </tr>\n",
              "  </tbody>\n",
              "</table>\n",
              "</div>"
            ],
            "text/plain": [
              "       Company Name  ... Status Mission\n",
              "count          4324  ...           4324\n",
              "unique           56  ...              4\n",
              "top       RVSN USSR  ...        Success\n",
              "freq           1777  ...           3879\n",
              "\n",
              "[4 rows x 7 columns]"
            ]
          },
          "metadata": {},
          "execution_count": 391
        }
      ]
    },
    {
      "cell_type": "markdown",
      "metadata": {
        "id": "Q3Od19PAWqlD"
      },
      "source": [
        "Podemos ver que a coluna **Status Rocket** possui apenas 2 valores únicos, enquanto **Status Mission** possui 4. Vamos ver quais são e traduzi-los, para melhor compreensão na visualização de gráficos."
      ]
    },
    {
      "cell_type": "code",
      "metadata": {
        "colab": {
          "base_uri": "https://localhost:8080/"
        },
        "id": "Iy45QZT5huHA",
        "outputId": "3fadf6ad-b76e-4335-a9a0-4fbd3dbb833b"
      },
      "source": [
        "df1['Status Rocket'].unique()"
      ],
      "execution_count": 392,
      "outputs": [
        {
          "output_type": "execute_result",
          "data": {
            "text/plain": [
              "array(['StatusActive', 'StatusRetired'], dtype=object)"
            ]
          },
          "metadata": {},
          "execution_count": 392
        }
      ]
    },
    {
      "cell_type": "code",
      "metadata": {
        "id": "L75RhYhEXlKO"
      },
      "source": [
        "labels_statusRocket = {'StatusRetired':'Inativo', 'StatusActive':'Ativo'}\n",
        "df1['Status Rocket'] = df1['Status Rocket'].replace(labels_statusRocket)"
      ],
      "execution_count": 393,
      "outputs": []
    },
    {
      "cell_type": "code",
      "metadata": {
        "colab": {
          "base_uri": "https://localhost:8080/"
        },
        "id": "jgnW8KNsh50n",
        "outputId": "06320144-fa53-4a2a-ab64-492a8e86aa03"
      },
      "source": [
        "df1['Status Mission'].unique()"
      ],
      "execution_count": 394,
      "outputs": [
        {
          "output_type": "execute_result",
          "data": {
            "text/plain": [
              "array(['Success', 'Failure', 'Prelaunch Failure', 'Partial Failure'],\n",
              "      dtype=object)"
            ]
          },
          "metadata": {},
          "execution_count": 394
        }
      ]
    },
    {
      "cell_type": "code",
      "metadata": {
        "id": "Sy3_1oQmYQGv"
      },
      "source": [
        "labels_statusMission = {'Success':'Sucesso', 'Failure':'Falha', 'Partial Failure':'Falha Parcial', 'Prelaunch Failure':'Falha no Pré-lançamento'}\n",
        "df1['Status Mission'] = df1['Status Mission'].replace(labels_statusMission)"
      ],
      "execution_count": 395,
      "outputs": []
    },
    {
      "cell_type": "markdown",
      "metadata": {
        "id": "-6rzXIrQeB9s"
      },
      "source": [
        "Também vimos que existem valores nulos na coluna **Rocket** (Seção 3.1). Como a quantidade de linhas com essa coluna faltando é muito grande, não é viável excluí-las. Nesse caso, vou apenas substituir por 0."
      ]
    },
    {
      "cell_type": "code",
      "metadata": {
        "id": "t88w55wpebQB"
      },
      "source": [
        "df1 = df1.fillna(0)"
      ],
      "execution_count": 396,
      "outputs": []
    },
    {
      "cell_type": "code",
      "metadata": {
        "colab": {
          "base_uri": "https://localhost:8080/"
        },
        "id": "sk2my0f5ABIf",
        "outputId": "349350a7-bfb6-4211-ef45-d83d8d423df4"
      },
      "source": [
        "df1[' Rocket'].describe()"
      ],
      "execution_count": 397,
      "outputs": [
        {
          "output_type": "execute_result",
          "data": {
            "text/plain": [
              "count     4324\n",
              "unique      57\n",
              "top          0\n",
              "freq      3360\n",
              "Name:  Rocket, dtype: int64"
            ]
          },
          "metadata": {},
          "execution_count": 397
        }
      ]
    },
    {
      "cell_type": "markdown",
      "metadata": {
        "id": "DdaVV0DpZQyD"
      },
      "source": [
        "Verificando se as colunas foram traduzidas corretamente e se não há mais valores nulos."
      ]
    },
    {
      "cell_type": "code",
      "metadata": {
        "colab": {
          "base_uri": "https://localhost:8080/"
        },
        "id": "0vpZd3VEhfLC",
        "outputId": "b0401f5e-7d0d-4b94-9d79-d3d5ebb53f97"
      },
      "source": [
        "df1.isna().sum()"
      ],
      "execution_count": 398,
      "outputs": [
        {
          "output_type": "execute_result",
          "data": {
            "text/plain": [
              "Company Name      0\n",
              "Location          0\n",
              "Datum             0\n",
              "Detail            0\n",
              "Status Rocket     0\n",
              " Rocket           0\n",
              "Status Mission    0\n",
              "dtype: int64"
            ]
          },
          "metadata": {},
          "execution_count": 398
        }
      ]
    },
    {
      "cell_type": "code",
      "metadata": {
        "colab": {
          "base_uri": "https://localhost:8080/",
          "height": 423
        },
        "id": "vQX5qN5ddZQK",
        "outputId": "efb319d1-d040-46dc-d306-b023a3ae552d"
      },
      "source": [
        "df1"
      ],
      "execution_count": 399,
      "outputs": [
        {
          "output_type": "execute_result",
          "data": {
            "text/html": [
              "<div>\n",
              "<style scoped>\n",
              "    .dataframe tbody tr th:only-of-type {\n",
              "        vertical-align: middle;\n",
              "    }\n",
              "\n",
              "    .dataframe tbody tr th {\n",
              "        vertical-align: top;\n",
              "    }\n",
              "\n",
              "    .dataframe thead th {\n",
              "        text-align: right;\n",
              "    }\n",
              "</style>\n",
              "<table border=\"1\" class=\"dataframe\">\n",
              "  <thead>\n",
              "    <tr style=\"text-align: right;\">\n",
              "      <th></th>\n",
              "      <th>Company Name</th>\n",
              "      <th>Location</th>\n",
              "      <th>Datum</th>\n",
              "      <th>Detail</th>\n",
              "      <th>Status Rocket</th>\n",
              "      <th>Rocket</th>\n",
              "      <th>Status Mission</th>\n",
              "    </tr>\n",
              "  </thead>\n",
              "  <tbody>\n",
              "    <tr>\n",
              "      <th>0</th>\n",
              "      <td>SpaceX</td>\n",
              "      <td>LC-39A, Kennedy Space Center, Florida, USA</td>\n",
              "      <td>Fri Aug 07, 2020 05:12 UTC</td>\n",
              "      <td>Falcon 9 Block 5 | Starlink V1 L9 &amp; BlackSky</td>\n",
              "      <td>Ativo</td>\n",
              "      <td>50.0</td>\n",
              "      <td>Sucesso</td>\n",
              "    </tr>\n",
              "    <tr>\n",
              "      <th>1</th>\n",
              "      <td>CASC</td>\n",
              "      <td>Site 9401 (SLS-2), Jiuquan Satellite Launch Ce...</td>\n",
              "      <td>Thu Aug 06, 2020 04:01 UTC</td>\n",
              "      <td>Long March 2D | Gaofen-9 04 &amp; Q-SAT</td>\n",
              "      <td>Ativo</td>\n",
              "      <td>29.75</td>\n",
              "      <td>Sucesso</td>\n",
              "    </tr>\n",
              "    <tr>\n",
              "      <th>2</th>\n",
              "      <td>SpaceX</td>\n",
              "      <td>Pad A, Boca Chica, Texas, USA</td>\n",
              "      <td>Tue Aug 04, 2020 23:57 UTC</td>\n",
              "      <td>Starship Prototype | 150 Meter Hop</td>\n",
              "      <td>Ativo</td>\n",
              "      <td>0</td>\n",
              "      <td>Sucesso</td>\n",
              "    </tr>\n",
              "    <tr>\n",
              "      <th>3</th>\n",
              "      <td>Roscosmos</td>\n",
              "      <td>Site 200/39, Baikonur Cosmodrome, Kazakhstan</td>\n",
              "      <td>Thu Jul 30, 2020 21:25 UTC</td>\n",
              "      <td>Proton-M/Briz-M | Ekspress-80 &amp; Ekspress-103</td>\n",
              "      <td>Ativo</td>\n",
              "      <td>65.0</td>\n",
              "      <td>Sucesso</td>\n",
              "    </tr>\n",
              "    <tr>\n",
              "      <th>4</th>\n",
              "      <td>ULA</td>\n",
              "      <td>SLC-41, Cape Canaveral AFS, Florida, USA</td>\n",
              "      <td>Thu Jul 30, 2020 11:50 UTC</td>\n",
              "      <td>Atlas V 541 | Perseverance</td>\n",
              "      <td>Ativo</td>\n",
              "      <td>145.0</td>\n",
              "      <td>Sucesso</td>\n",
              "    </tr>\n",
              "    <tr>\n",
              "      <th>...</th>\n",
              "      <td>...</td>\n",
              "      <td>...</td>\n",
              "      <td>...</td>\n",
              "      <td>...</td>\n",
              "      <td>...</td>\n",
              "      <td>...</td>\n",
              "      <td>...</td>\n",
              "    </tr>\n",
              "    <tr>\n",
              "      <th>4319</th>\n",
              "      <td>US Navy</td>\n",
              "      <td>LC-18A, Cape Canaveral AFS, Florida, USA</td>\n",
              "      <td>Wed Feb 05, 1958 07:33 UTC</td>\n",
              "      <td>Vanguard | Vanguard TV3BU</td>\n",
              "      <td>Inativo</td>\n",
              "      <td>0</td>\n",
              "      <td>Falha</td>\n",
              "    </tr>\n",
              "    <tr>\n",
              "      <th>4320</th>\n",
              "      <td>AMBA</td>\n",
              "      <td>LC-26A, Cape Canaveral AFS, Florida, USA</td>\n",
              "      <td>Sat Feb 01, 1958 03:48 UTC</td>\n",
              "      <td>Juno I | Explorer 1</td>\n",
              "      <td>Inativo</td>\n",
              "      <td>0</td>\n",
              "      <td>Sucesso</td>\n",
              "    </tr>\n",
              "    <tr>\n",
              "      <th>4321</th>\n",
              "      <td>US Navy</td>\n",
              "      <td>LC-18A, Cape Canaveral AFS, Florida, USA</td>\n",
              "      <td>Fri Dec 06, 1957 16:44 UTC</td>\n",
              "      <td>Vanguard | Vanguard TV3</td>\n",
              "      <td>Inativo</td>\n",
              "      <td>0</td>\n",
              "      <td>Falha</td>\n",
              "    </tr>\n",
              "    <tr>\n",
              "      <th>4322</th>\n",
              "      <td>RVSN USSR</td>\n",
              "      <td>Site 1/5, Baikonur Cosmodrome, Kazakhstan</td>\n",
              "      <td>Sun Nov 03, 1957 02:30 UTC</td>\n",
              "      <td>Sputnik 8K71PS | Sputnik-2</td>\n",
              "      <td>Inativo</td>\n",
              "      <td>0</td>\n",
              "      <td>Sucesso</td>\n",
              "    </tr>\n",
              "    <tr>\n",
              "      <th>4323</th>\n",
              "      <td>RVSN USSR</td>\n",
              "      <td>Site 1/5, Baikonur Cosmodrome, Kazakhstan</td>\n",
              "      <td>Fri Oct 04, 1957 19:28 UTC</td>\n",
              "      <td>Sputnik 8K71PS | Sputnik-1</td>\n",
              "      <td>Inativo</td>\n",
              "      <td>0</td>\n",
              "      <td>Sucesso</td>\n",
              "    </tr>\n",
              "  </tbody>\n",
              "</table>\n",
              "<p>4324 rows × 7 columns</p>\n",
              "</div>"
            ],
            "text/plain": [
              "     Company Name  ... Status Mission\n",
              "0          SpaceX  ...        Sucesso\n",
              "1            CASC  ...        Sucesso\n",
              "2          SpaceX  ...        Sucesso\n",
              "3       Roscosmos  ...        Sucesso\n",
              "4             ULA  ...        Sucesso\n",
              "...           ...  ...            ...\n",
              "4319      US Navy  ...          Falha\n",
              "4320         AMBA  ...        Sucesso\n",
              "4321      US Navy  ...          Falha\n",
              "4322    RVSN USSR  ...        Sucesso\n",
              "4323    RVSN USSR  ...        Sucesso\n",
              "\n",
              "[4324 rows x 7 columns]"
            ]
          },
          "metadata": {},
          "execution_count": 399
        }
      ]
    },
    {
      "cell_type": "markdown",
      "metadata": {
        "id": "ZjzebQCvj-Vd"
      },
      "source": [
        "### 3.2 - Análises Específicas"
      ]
    },
    {
      "cell_type": "markdown",
      "metadata": {
        "id": "4TIWalP5kDVY"
      },
      "source": [
        "Agora que já sabemos um pouco sobre a base de dados, podemos realizar a análise em colunas específicas. Vamos começar analisando quantas missões foram bem sucedidas."
      ]
    },
    {
      "cell_type": "code",
      "metadata": {
        "colab": {
          "base_uri": "https://localhost:8080/"
        },
        "id": "-_dAh02CmzcB",
        "outputId": "43e61ec5-65e0-4cdd-88d3-a958c71bf0dd"
      },
      "source": [
        "df1['Status Mission'].value_counts()"
      ],
      "execution_count": 400,
      "outputs": [
        {
          "output_type": "execute_result",
          "data": {
            "text/plain": [
              "Sucesso                    3879\n",
              "Falha                       339\n",
              "Falha Parcial               102\n",
              "Falha no Pré-lançamento       4\n",
              "Name: Status Mission, dtype: int64"
            ]
          },
          "metadata": {},
          "execution_count": 400
        }
      ]
    },
    {
      "cell_type": "markdown",
      "metadata": {
        "id": "LDGZRLkcoCo_"
      },
      "source": [
        "Das 4324 missões registradas na base, **3879** tiveram sucesso, a grande maioria."
      ]
    },
    {
      "cell_type": "markdown",
      "metadata": {
        "id": "Y50ULhgOosao"
      },
      "source": [
        "Vamos ver agora a porcentagem de foguetes que ainda são usados, e quantos já saíram de linha."
      ]
    },
    {
      "cell_type": "code",
      "metadata": {
        "colab": {
          "base_uri": "https://localhost:8080/",
          "height": 483
        },
        "id": "_jr2n2k-kX28",
        "outputId": "8afcba65-642b-42db-e46b-e0ce3f8c469d"
      },
      "source": [
        "plt.figure(figsize=(8,8))\n",
        "plt.pie(df1['Status Rocket'].value_counts(), labels = df1['Status Rocket'].unique(), autopct='%1.1f%%', shadow=True)\n",
        "plt.title(\"Status dos foguetes\")\n",
        "plt.show()"
      ],
      "execution_count": 401,
      "outputs": [
        {
          "output_type": "display_data",
          "data": {
            "image/png": "[encoded data removed]",
            "text/plain": [
              "<Figure size 576x576 with 1 Axes>"
            ]
          },
          "metadata": {}
        }
      ]
    },
    {
      "cell_type": "markdown",
      "metadata": {
        "id": "YJy31F6vpSwY"
      },
      "source": [
        "Analisando agora qual o custo das missões anualmente. Primeiro, é preciso extrair o ano da coluna **Datum**, e em seguida converter o tipo da coluna **Rocket** de string para float."
      ]
    },
    {
      "cell_type": "code",
      "metadata": {
        "id": "wCkzoN_ZqPNi"
      },
      "source": [
        "df1['dataAno'] = pd.to_datetime(df['Datum']).apply(lambda datetime: datetime.year)"
      ],
      "execution_count": 402,
      "outputs": []
    },
    {
      "cell_type": "code",
      "metadata": {
        "colab": {
          "base_uri": "https://localhost:8080/"
        },
        "id": "bmcobt3BtpN4",
        "outputId": "674b1c1c-9ca0-4f0b-ea33-b723f0f1351d"
      },
      "source": [
        "df1['dataAno'].head()"
      ],
      "execution_count": 403,
      "outputs": [
        {
          "output_type": "execute_result",
          "data": {
            "text/plain": [
              "0    2020\n",
              "1    2020\n",
              "2    2020\n",
              "3    2020\n",
              "4    2020\n",
              "Name: dataAno, dtype: int64"
            ]
          },
          "metadata": {},
          "execution_count": 403
        }
      ]
    },
    {
      "cell_type": "code",
      "metadata": {
        "colab": {
          "base_uri": "https://localhost:8080/"
        },
        "id": "fC3xcVbDwIh-",
        "outputId": "29463e2c-0df1-4da8-cad2-ef7d274486aa"
      },
      "source": [
        "df1['Rocket'] = df1[' Rocket'].apply(lambda x: str(x).replace(',',''))\n",
        "df1['Rocket'] = df1['Rocket'].astype('float64')\n",
        "df1 = df1.drop(columns=' Rocket')\n",
        "\n",
        "df1.info()"
      ],
      "execution_count": 404,
      "outputs": [
        {
          "output_type": "stream",
          "name": "stdout",
          "text": [
            "<class 'pandas.core.frame.DataFrame'>\n",
            "RangeIndex: 4324 entries, 0 to 4323\n",
            "Data columns (total 8 columns):\n",
            " #   Column          Non-Null Count  Dtype  \n",
            "---  ------          --------------  -----  \n",
            " 0   Company Name    4324 non-null   object \n",
            " 1   Location        4324 non-null   object \n",
            " 2   Datum           4324 non-null   object \n",
            " 3   Detail          4324 non-null   object \n",
            " 4   Status Rocket   4324 non-null   object \n",
            " 5   Status Mission  4324 non-null   object \n",
            " 6   dataAno         4324 non-null   int64  \n",
            " 7   Rocket          4324 non-null   float64\n",
            "dtypes: float64(1), int64(1), object(6)\n",
            "memory usage: 270.4+ KB\n"
          ]
        }
      ]
    },
    {
      "cell_type": "markdown",
      "metadata": {
        "id": "_ZkDrwvndJNJ"
      },
      "source": [
        "Com as transformações realizadas, agora é possível desenhar o gráfico de custos anuais."
      ]
    },
    {
      "cell_type": "code",
      "metadata": {
        "colab": {
          "base_uri": "https://localhost:8080/",
          "height": 518
        },
        "id": "KONHmM9I77Po",
        "outputId": "beb99999-f252-41e4-d750-6ce0bc590f16"
      },
      "source": [
        "plt.figure(figsize=(20,8))\n",
        "sns.lineplot(data=df1, x=\"dataAno\", y=\"Rocket\")"
      ],
      "execution_count": 405,
      "outputs": [
        {
          "output_type": "execute_result",
          "data": {
            "text/plain": [
              "<matplotlib.axes._subplots.AxesSubplot at 0x7f55ad50d2d0>"
            ]
          },
          "metadata": {},
          "execution_count": 405
        },
        {
          "output_type": "display_data",
          "data": {
            "image/png": "[encoded data removed]",
            "text/plain": [
              "<Figure size 1440x576 with 1 Axes>"
            ]
          },
          "metadata": {}
        }
      ]
    },
    {
      "cell_type": "markdown",
      "metadata": {
        "id": "XIBfjj65DQku"
      },
      "source": [
        "Podemos fazer o mesmo para os meses, dessa vez extraindo da coluna **Datum** os intervalos mensais."
      ]
    },
    {
      "cell_type": "code",
      "metadata": {
        "id": "v9KUZj61Dbuh"
      },
      "source": [
        "df1['dataMes'] = pd.to_datetime(df['Datum']).apply(lambda datetime: datetime.month)"
      ],
      "execution_count": 406,
      "outputs": []
    },
    {
      "cell_type": "code",
      "metadata": {
        "colab": {
          "base_uri": "https://localhost:8080/"
        },
        "id": "oy4TL2i5Dm-H",
        "outputId": "6a7d51c8-75b7-4bfb-91f9-bd0cb6a0002f"
      },
      "source": [
        "df1['dataMes'].head()"
      ],
      "execution_count": 407,
      "outputs": [
        {
          "output_type": "execute_result",
          "data": {
            "text/plain": [
              "0    8\n",
              "1    8\n",
              "2    8\n",
              "3    7\n",
              "4    7\n",
              "Name: dataMes, dtype: int64"
            ]
          },
          "metadata": {},
          "execution_count": 407
        }
      ]
    },
    {
      "cell_type": "code",
      "metadata": {
        "colab": {
          "base_uri": "https://localhost:8080/"
        },
        "id": "ymo-FwG2EJBT",
        "outputId": "24594a2c-7fe5-4578-85c7-3e1e6c213d81"
      },
      "source": [
        "df1['dataMes'].describe()"
      ],
      "execution_count": 408,
      "outputs": [
        {
          "output_type": "execute_result",
          "data": {
            "text/plain": [
              "count    4324.000000\n",
              "mean        6.754163\n",
              "std         3.417027\n",
              "min         1.000000\n",
              "25%         4.000000\n",
              "50%         7.000000\n",
              "75%        10.000000\n",
              "max        12.000000\n",
              "Name: dataMes, dtype: float64"
            ]
          },
          "metadata": {},
          "execution_count": 408
        }
      ]
    },
    {
      "cell_type": "markdown",
      "metadata": {
        "id": "wuOrugfcEfyS"
      },
      "source": [
        "Traduzindo os valores para melhor visualização."
      ]
    },
    {
      "cell_type": "code",
      "metadata": {
        "id": "Xx65vUJUEjlD"
      },
      "source": [
        "df1['dataMes'] = df1['dataMes'].astype('str')\n",
        "labels_months = {'1':'Janeiro', '2':'Fevereiro', '3':'Março', '4':'Abril', '5':'Maio', '6':'Junho', '7':'Julho', '8':'Agosto', '9':'Setembro', '10':'Outubro', '11':'Novembro', '12':'Dezembro'}\n",
        "df1['dataMes'] = df1['dataMes'].replace(labels_months)"
      ],
      "execution_count": 409,
      "outputs": []
    },
    {
      "cell_type": "code",
      "metadata": {
        "colab": {
          "base_uri": "https://localhost:8080/"
        },
        "id": "cEvcPuphGAVV",
        "outputId": "3ad09440-ae3d-48ad-c94f-24d73114f9c9"
      },
      "source": [
        "df1['dataMes'].head()"
      ],
      "execution_count": 410,
      "outputs": [
        {
          "output_type": "execute_result",
          "data": {
            "text/plain": [
              "0    Agosto\n",
              "1    Agosto\n",
              "2    Agosto\n",
              "3     Julho\n",
              "4     Julho\n",
              "Name: dataMes, dtype: object"
            ]
          },
          "metadata": {},
          "execution_count": 410
        }
      ]
    },
    {
      "cell_type": "markdown",
      "metadata": {
        "id": "rx8_Z7RhMeDF"
      },
      "source": [
        "Com os meses devidamente traduzidos, vamos analisar a média de valores gastos para cada mês do ano."
      ]
    },
    {
      "cell_type": "code",
      "metadata": {
        "colab": {
          "base_uri": "https://localhost:8080/",
          "height": 516
        },
        "id": "lIAOHq9bIoNq",
        "outputId": "0e4825b1-e647-425a-dd91-f8abb5314529"
      },
      "source": [
        "plt.figure(figsize = (20,8))\n",
        "plt.title(\"Valor médio de lançamentos por mês\")\n",
        "plt.xlabel(\" \")\n",
        "plt.ylabel(\"Valor Médio dos lançamentos\")\n",
        "sns.barplot(x=\"dataMes\", y=\"Rocket\", data=df1, order=['Janeiro', 'Fevereiro', 'Março', 'Abril', 'Maio', 'Junho', 'Julho', 'Agosto', 'Setembro', 'Outubro', 'Novembro', 'Dezembro']);"
      ],
      "execution_count": 411,
      "outputs": [
        {
          "output_type": "display_data",
          "data": {
            "image/png": "[encoded data removed]",
            "text/plain": [
              "<Figure size 1440x576 with 1 Axes>"
            ]
          },
          "metadata": {}
        }
      ]
    },
    {
      "cell_type": "markdown",
      "metadata": {
        "id": "y4JvvhmuM_lG"
      },
      "source": [
        "Em seguida, vamos ver qual companhia possui mais lançamentos registrados."
      ]
    },
    {
      "cell_type": "code",
      "metadata": {
        "colab": {
          "base_uri": "https://localhost:8080/"
        },
        "id": "82453NNAOQJV",
        "outputId": "00879e02-e82f-4abd-d373-6eba44ec4c35"
      },
      "source": [
        "df1['Company Name'].value_counts()"
      ],
      "execution_count": 412,
      "outputs": [
        {
          "output_type": "execute_result",
          "data": {
            "text/plain": [
              "RVSN USSR           1777\n",
              "Arianespace          279\n",
              "CASC                 251\n",
              "General Dynamics     251\n",
              "NASA                 203\n",
              "VKS RF               201\n",
              "US Air Force         161\n",
              "ULA                  140\n",
              "Boeing               136\n",
              "Martin Marietta      114\n",
              "SpaceX               100\n",
              "MHI                   84\n",
              "Northrop              83\n",
              "Lockheed              79\n",
              "ISRO                  76\n",
              "Roscosmos             55\n",
              "ILS                   46\n",
              "Sea Launch            36\n",
              "ISAS                  30\n",
              "Kosmotras             22\n",
              "US Navy               17\n",
              "Rocket Lab            13\n",
              "Eurockot              13\n",
              "ESA                   13\n",
              "ISA                   13\n",
              "Blue Origin           12\n",
              "IAI                   11\n",
              "ExPace                10\n",
              "ASI                    9\n",
              "AMBA                   8\n",
              "CNES                   8\n",
              "Land Launch            7\n",
              "JAXA                   7\n",
              "MITT                   7\n",
              "CASIC                  5\n",
              "KCST                   5\n",
              "UT                     5\n",
              "CECLES                 4\n",
              "Arm??e de l'Air        4\n",
              "Exos                   4\n",
              "SRC                    3\n",
              "AEB                    3\n",
              "KARI                   3\n",
              "Yuzhmash               2\n",
              "OKB-586                2\n",
              "RAE                    2\n",
              "IRGC                   1\n",
              "Landspace              1\n",
              "Starsem                1\n",
              "EER                    1\n",
              "OneSpace               1\n",
              "Khrunichev             1\n",
              "Douglas                1\n",
              "Sandia                 1\n",
              "i-Space                1\n",
              "Virgin Orbit           1\n",
              "Name: Company Name, dtype: int64"
            ]
          },
          "metadata": {},
          "execution_count": 412
        }
      ]
    },
    {
      "cell_type": "markdown",
      "metadata": {
        "id": "l4ro7vyjOxif"
      },
      "source": [
        "Para melhor visualização, vamos colocar essas informações em um gráfico."
      ]
    },
    {
      "cell_type": "code",
      "metadata": {
        "colab": {
          "base_uri": "https://localhost:8080/",
          "height": 834
        },
        "id": "MQz780_2NGZw",
        "outputId": "1ec6be30-e6b7-458b-a46c-a3c01dc0d0c3"
      },
      "source": [
        "plt.figure(figsize=(20,12))\n",
        "df1['Company Name'].value_counts().plot(kind='bar',color='brown')\n",
        "plt.xlabel(\"Companhia\")\n",
        "plt.ylabel(\"Nº de Lançamentos\")\n",
        "plt.title(\"Quantidade de lançamentos registrados por companhia\")"
      ],
      "execution_count": 413,
      "outputs": [
        {
          "output_type": "execute_result",
          "data": {
            "text/plain": [
              "Text(0.5, 1.0, 'Quantidade de lançamentos registrados por companhia')"
            ]
          },
          "metadata": {},
          "execution_count": 413
        },
        {
          "output_type": "display_data",
          "data": {
            "image/png": "[encoded data removed]",
            "text/plain": [
              "<Figure size 1440x864 with 1 Axes>"
            ]
          },
          "metadata": {}
        }
      ]
    },
    {
      "cell_type": "markdown",
      "metadata": {
        "id": "UgCvq4OnNo_C"
      },
      "source": [
        "Por fim, vamos analisar quanto cada companhia já gastou em lançamentos."
      ]
    },
    {
      "cell_type": "code",
      "metadata": {
        "colab": {
          "base_uri": "https://localhost:8080/"
        },
        "id": "JTkxGyWYTPX7",
        "outputId": "e627dc29-eec0-4d3b-992c-441743f3093c"
      },
      "source": [
        "df1.groupby('Company Name').Rocket.sum()"
      ],
      "execution_count": 414,
      "outputs": [
        {
          "output_type": "execute_result",
          "data": {
            "text/plain": [
              "Company Name\n",
              "AEB                     0.00\n",
              "AMBA                    0.00\n",
              "ASI                     0.00\n",
              "Arianespace         16345.00\n",
              "Arm??e de l'Air         0.00\n",
              "Blue Origin             0.00\n",
              "Boeing               1241.00\n",
              "CASC                 6340.26\n",
              "CASIC                   0.00\n",
              "CECLES                  0.00\n",
              "CNES                    0.00\n",
              "Douglas                 0.00\n",
              "EER                    20.00\n",
              "ESA                    37.00\n",
              "Eurockot              543.40\n",
              "ExPace                 28.30\n",
              "Exos                    0.00\n",
              "General Dynamics        0.00\n",
              "IAI                     0.00\n",
              "ILS                  1320.00\n",
              "IRGC                    0.00\n",
              "ISA                     0.00\n",
              "ISAS                    0.00\n",
              "ISRO                 2177.00\n",
              "JAXA                  168.00\n",
              "KARI                    0.00\n",
              "KCST                    0.00\n",
              "Khrunichev              0.00\n",
              "Kosmotras             638.00\n",
              "Land Launch             0.00\n",
              "Landspace               0.00\n",
              "Lockheed              280.00\n",
              "MHI                  3532.50\n",
              "MITT                    0.00\n",
              "Martin Marietta       721.40\n",
              "NASA                76280.00\n",
              "Northrop             3930.00\n",
              "OKB-586                 0.00\n",
              "OneSpace                0.00\n",
              "RAE                     0.00\n",
              "RVSN USSR           10000.00\n",
              "Rocket Lab             97.50\n",
              "Roscosmos            1187.50\n",
              "SRC                     0.00\n",
              "Sandia                 15.00\n",
              "Sea Launch              0.00\n",
              "SpaceX               5444.00\n",
              "Starsem                 0.00\n",
              "ULA                 14798.00\n",
              "US Air Force         1550.92\n",
              "US Navy                 0.00\n",
              "UT                      0.00\n",
              "VKS RF               1548.90\n",
              "Virgin Orbit           12.00\n",
              "Yuzhmash                0.00\n",
              "i-Space                 0.00\n",
              "Name: Rocket, dtype: float64"
            ]
          },
          "metadata": {},
          "execution_count": 414
        }
      ]
    },
    {
      "cell_type": "markdown",
      "metadata": {
        "id": "34WchRe-VyX8"
      },
      "source": [
        "Vamos visualizar essas informações em um gráfico."
      ]
    },
    {
      "cell_type": "code",
      "metadata": {
        "colab": {
          "base_uri": "https://localhost:8080/",
          "height": 834
        },
        "id": "NnnnzNcLVJkc",
        "outputId": "51fe5cab-bdb0-44e5-db71-34433ba2333b"
      },
      "source": [
        "plt.figure(figsize=(20,12))\n",
        "df1.groupby('Company Name').Rocket.sum().plot(kind='bar',color='brown')\n",
        "plt.xlabel(\"Companhia\")\n",
        "plt.ylabel(\"Valor total dos lançamentos em milhões de US$\")\n",
        "plt.title(\"Valor total dos lançamentos registrados por companhia\")"
      ],
      "execution_count": 415,
      "outputs": [
        {
          "output_type": "execute_result",
          "data": {
            "text/plain": [
              "Text(0.5, 1.0, 'Valor total dos lançamentos registrados por companhia')"
            ]
          },
          "metadata": {},
          "execution_count": 415
        },
        {
          "output_type": "display_data",
          "data": {
            "image/png": "[encoded data removed]",
            "text/plain": [
              "<Figure size 1440x864 with 1 Axes>"
            ]
          },
          "metadata": {}
        }
      ]
    }
  ]
}